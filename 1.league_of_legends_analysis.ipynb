{
 "cells": [
  {
   "cell_type": "markdown",
   "id": "384805b1",
   "metadata": {},
   "source": [
    "<img src=\"./image/data.png\"/>\n",
    "\n",
    "# Introduction #\n",
    "\n",
    "Welcome to this workshop, the objective of this workshop is to analyze data using pandas.\\\n",
    "For this we will use a dataset that represents competitive league of legends games in 2020.\n",
    "\n",
    "Data analysis is closely related to artificial intelligence.\\\n",
    "Indeed, when we want to set up an artificial intelligence model, we usually have raw data,\\\n",
    "to get good results it is important to work on these raw data, in order to obtain meaningful data.\n",
    "\n",
    "In this workshop:\n",
    "   - Data analysis.\n",
    "   - Data processing.\n",
    "   \n",
    "For this we will use the pandas library : [pandas](https://pandas.pydata.org/)"
   ]
  },
  {
   "cell_type": "markdown",
   "id": "688401cc",
   "metadata": {},
   "source": [
    "### Requirements\n",
    "\n",
    "Check that you have pandas installed, if not open your shell and run the command: `pip3 install pandas`\\\n",
    "Make sure you have the `matches2020.csv` file to start the workshop.\n",
    "\n",
    "In this workshop you will analyze a csv file.\\\n",
    "I strongly advise you not to use any loop (for, while ... ect)\\\n",
    "Indeed this workshop is made to be successful without the use of any loop,\\\n",
    "Read the documentation, search on the web, and come to the supervisors if you get stuck on a part for too long."
   ]
  },
  {
   "cell_type": "code",
   "execution_count": 3,
   "id": "f8b97516",
   "metadata": {},
   "outputs": [
    {
     "name": "stdout",
     "output_type": "stream",
     "text": [
      "1.league_of_legends_analysis.ipynb\tdatasets      image\n",
      "2.video_games_data_visualisation.ipynb\tdatasets.zip  README.md\n"
     ]
    }
   ],
   "source": [
    "!ls"
   ]
  },
  {
   "cell_type": "markdown",
   "id": "602e0a6e",
   "metadata": {},
   "source": [
    "### Import\n",
    "\n",
    "To start, it is necessary to import `pandas`, we give it the alias `pd` to be able to use its methods more easily.\\\n",
    "If you don't know what a method is I advise you to start with the workshop : `python basics`"
   ]
  },
  {
   "cell_type": "code",
   "execution_count": 5,
   "id": "5496c943",
   "metadata": {},
   "outputs": [],
   "source": [
    "import pandas as pd"
   ]
  },
  {
   "cell_type": "markdown",
   "id": "8e7065a6",
   "metadata": {},
   "source": [
    "## Read & Verify\n",
    "\n",
    "Here we are at our first task, the difficulty will increase gradually.\n",
    "\n",
    "\n",
    "For now pandas needs to read the csv to be able to use it.\\\n",
    "You have to read the file : `matches2020.csv`\\\n",
    "Since it is the first task, here is the link of the function : [read_csv](https://pandas.pydata.org/pandas-docs/stable/reference/api/pandas.read_csv.html)\\\n",
    "For the next steps, I will let you search in the documentation: [documentation](https://pandas.pydata.org/docs/index.html)"
   ]
  },
  {
   "cell_type": "code",
   "execution_count": 10,
   "id": "28ec7b15",
   "metadata": {},
   "outputs": [],
   "source": [
    "#read the file : matches2020.csv with the function read_csv\n",
    "\n",
    "data = pd.read_csv(\"./datasets/matches2020.csv\")"
   ]
  },
  {
   "cell_type": "markdown",
   "id": "83ff96c8",
   "metadata": {},
   "source": [
    "Congratulations, you have successfully completed the first task,\n",
    "\n",
    "\n",
    "The second task is to display the dataframe using the [head](https://pandas.pydata.org/docs/reference/api/pandas.DataFrame.head.html) method.\\\n",
    "head will by default display the first 5 lines if you don't set any parameters."
   ]
  },
  {
   "cell_type": "code",
   "execution_count": 13,
   "id": "b8ec62b6",
   "metadata": {},
   "outputs": [
    {
     "data": {
      "text/html": [
       "<div>\n",
       "<style scoped>\n",
       "    .dataframe tbody tr th:only-of-type {\n",
       "        vertical-align: middle;\n",
       "    }\n",
       "\n",
       "    .dataframe tbody tr th {\n",
       "        vertical-align: top;\n",
       "    }\n",
       "\n",
       "    .dataframe thead th {\n",
       "        text-align: right;\n",
       "    }\n",
       "</style>\n",
       "<table border=\"1\" class=\"dataframe\">\n",
       "  <thead>\n",
       "    <tr style=\"text-align: right;\">\n",
       "      <th></th>\n",
       "      <th>Unnamed: 0</th>\n",
       "      <th>gameid</th>\n",
       "      <th>league</th>\n",
       "      <th>blueteam</th>\n",
       "      <th>redteam</th>\n",
       "      <th>bluetop</th>\n",
       "      <th>bluejungle</th>\n",
       "      <th>bluemid</th>\n",
       "      <th>blueadc</th>\n",
       "      <th>bluesupport</th>\n",
       "      <th>redtop</th>\n",
       "      <th>redjungle</th>\n",
       "      <th>redmid</th>\n",
       "      <th>redadc</th>\n",
       "      <th>redsupport</th>\n",
       "      <th>result</th>\n",
       "    </tr>\n",
       "  </thead>\n",
       "  <tbody>\n",
       "    <tr>\n",
       "      <th>0</th>\n",
       "      <td>0</td>\n",
       "      <td>ESPORTSTMNT03/1241318</td>\n",
       "      <td>KeSPA</td>\n",
       "      <td>SANDBOX Gaming</td>\n",
       "      <td>T1</td>\n",
       "      <td>Rumble</td>\n",
       "      <td>Elise</td>\n",
       "      <td>Qiyana</td>\n",
       "      <td>MissFortune</td>\n",
       "      <td>Nautilus</td>\n",
       "      <td>Aatrox</td>\n",
       "      <td>Gragas</td>\n",
       "      <td>Mordekaiser</td>\n",
       "      <td>Xayah</td>\n",
       "      <td>Rakan</td>\n",
       "      <td>1</td>\n",
       "    </tr>\n",
       "    <tr>\n",
       "      <th>1</th>\n",
       "      <td>1</td>\n",
       "      <td>ESPORTSTMNT03/1241322</td>\n",
       "      <td>KeSPA</td>\n",
       "      <td>T1</td>\n",
       "      <td>SANDBOX Gaming</td>\n",
       "      <td>Jayce</td>\n",
       "      <td>JarvanIV</td>\n",
       "      <td>Orianna</td>\n",
       "      <td>MissFortune</td>\n",
       "      <td>Nautilus</td>\n",
       "      <td>Aatrox</td>\n",
       "      <td>Elise</td>\n",
       "      <td>Qiyana</td>\n",
       "      <td>Varus</td>\n",
       "      <td>TahmKench</td>\n",
       "      <td>0</td>\n",
       "    </tr>\n",
       "    <tr>\n",
       "      <th>2</th>\n",
       "      <td>2</td>\n",
       "      <td>ESPORTSTMNT03/1241324</td>\n",
       "      <td>KeSPA</td>\n",
       "      <td>T1</td>\n",
       "      <td>SANDBOX Gaming</td>\n",
       "      <td>Renekton</td>\n",
       "      <td>RekSai</td>\n",
       "      <td>Mordekaiser</td>\n",
       "      <td>Xayah</td>\n",
       "      <td>Rakan</td>\n",
       "      <td>Aatrox</td>\n",
       "      <td>Sejuani</td>\n",
       "      <td>Azir</td>\n",
       "      <td>MissFortune</td>\n",
       "      <td>Nautilus</td>\n",
       "      <td>1</td>\n",
       "    </tr>\n",
       "    <tr>\n",
       "      <th>3</th>\n",
       "      <td>3</td>\n",
       "      <td>ESPORTSTMNT03/1241328</td>\n",
       "      <td>KeSPA</td>\n",
       "      <td>T1</td>\n",
       "      <td>SANDBOX Gaming</td>\n",
       "      <td>Pantheon</td>\n",
       "      <td>Elise</td>\n",
       "      <td>Nautilus</td>\n",
       "      <td>Xayah</td>\n",
       "      <td>Rakan</td>\n",
       "      <td>Quinn</td>\n",
       "      <td>Olaf</td>\n",
       "      <td>Orianna</td>\n",
       "      <td>MissFortune</td>\n",
       "      <td>Leona</td>\n",
       "      <td>0</td>\n",
       "    </tr>\n",
       "    <tr>\n",
       "      <th>4</th>\n",
       "      <td>4</td>\n",
       "      <td>ESPORTSTMNT03/1241386</td>\n",
       "      <td>KeSPA</td>\n",
       "      <td>DRX</td>\n",
       "      <td>Afreeca Freecs</td>\n",
       "      <td>Mordekaiser</td>\n",
       "      <td>JarvanIV</td>\n",
       "      <td>Ryze</td>\n",
       "      <td>Xayah</td>\n",
       "      <td>Rakan</td>\n",
       "      <td>Renekton</td>\n",
       "      <td>Elise</td>\n",
       "      <td>Velkoz</td>\n",
       "      <td>Varus</td>\n",
       "      <td>Braum</td>\n",
       "      <td>0</td>\n",
       "    </tr>\n",
       "  </tbody>\n",
       "</table>\n",
       "</div>"
      ],
      "text/plain": [
       "   Unnamed: 0                 gameid league        blueteam         redteam  \\\n",
       "0           0  ESPORTSTMNT03/1241318  KeSPA  SANDBOX Gaming              T1   \n",
       "1           1  ESPORTSTMNT03/1241322  KeSPA              T1  SANDBOX Gaming   \n",
       "2           2  ESPORTSTMNT03/1241324  KeSPA              T1  SANDBOX Gaming   \n",
       "3           3  ESPORTSTMNT03/1241328  KeSPA              T1  SANDBOX Gaming   \n",
       "4           4  ESPORTSTMNT03/1241386  KeSPA             DRX  Afreeca Freecs   \n",
       "\n",
       "       bluetop bluejungle      bluemid      blueadc bluesupport    redtop  \\\n",
       "0       Rumble      Elise       Qiyana  MissFortune    Nautilus    Aatrox   \n",
       "1        Jayce   JarvanIV      Orianna  MissFortune    Nautilus    Aatrox   \n",
       "2     Renekton     RekSai  Mordekaiser        Xayah       Rakan    Aatrox   \n",
       "3     Pantheon      Elise     Nautilus        Xayah       Rakan     Quinn   \n",
       "4  Mordekaiser   JarvanIV         Ryze        Xayah       Rakan  Renekton   \n",
       "\n",
       "  redjungle       redmid       redadc redsupport  result  \n",
       "0    Gragas  Mordekaiser        Xayah      Rakan       1  \n",
       "1     Elise       Qiyana        Varus  TahmKench       0  \n",
       "2   Sejuani         Azir  MissFortune   Nautilus       1  \n",
       "3      Olaf      Orianna  MissFortune      Leona       0  \n",
       "4     Elise       Velkoz        Varus      Braum       0  "
      ]
     },
     "execution_count": 13,
     "metadata": {},
     "output_type": "execute_result"
    }
   ],
   "source": [
    "# Use the head method\n",
    "pd.DataFrame.head(data)"
   ]
  },
  {
   "cell_type": "markdown",
   "id": "b9ef744c",
   "metadata": {},
   "source": [
    "**Expected output:** \\\n",
    "<img src=\"./image/head_result.png\"/>"
   ]
  },
  {
   "cell_type": "markdown",
   "id": "e65be67e",
   "metadata": {},
   "source": [
    "### Dataset length\n",
    "\n",
    "We can observe that indeed our dataset contains information about competitive league of legends games in 2020.\\\n",
    "I will describe the different columns :\n",
    "- the **id** of the game,\n",
    "- the **league**, in league of legends the competition is divided in different regional leagues,\\\n",
    "especially the LFL which is the french league and the LEC which is the european league.\n",
    "- the **name** of the blue team,\n",
    "- the **name** of the red team,\n",
    "- in a game of league of legends there are 5 different roles, \\\n",
    "the **top**, the **mid**, the **jungle**, the **adc** and the **support**, to each role corresponds its champion pool.\n",
    "- the result, equal to 1 if the blue team wins otherwise equal to 0\n",
    "\n",
    "You have to return the total number of games of the dataset."
   ]
  },
  {
   "cell_type": "code",
   "execution_count": 20,
   "id": "0ee878fa",
   "metadata": {},
   "outputs": [],
   "source": [
    "#return the number of games\n",
    "\n",
    "def number_of_games(df):\n",
    "    return pd.DataFrame(df).shape[0]"
   ]
  },
  {
   "cell_type": "code",
   "execution_count": 21,
   "id": "57f408f6",
   "metadata": {},
   "outputs": [
    {
     "data": {
      "text/plain": [
       "5612"
      ]
     },
     "execution_count": 21,
     "metadata": {},
     "output_type": "execute_result"
    }
   ],
   "source": [
    "number_of_games(data)"
   ]
  },
  {
   "cell_type": "markdown",
   "id": "4a03dea3",
   "metadata": {},
   "source": [
    "**Expected output :** `5612`\n"
   ]
  },
  {
   "cell_type": "markdown",
   "id": "2e252523",
   "metadata": {},
   "source": [
    "The LFL is the French league, teams like Vitality or LDLC play there. \\\n",
    "you will need to return the number of competitive games in the LFL in 2020.\n",
    "\n",
    "Try to create a variable that retrieves only the games where the League column is equal to `LFL`,\\\n",
    "then apply the same method as before."
   ]
  },
  {
   "cell_type": "code",
   "execution_count": 30,
   "id": "2599646b",
   "metadata": {},
   "outputs": [],
   "source": [
    "#return the number of games in LFL\n",
    "\n",
    "def number_of_games_lfl(df):\n",
    "    return number_of_games(df.loc[df['league'] == 'LFL'])"
   ]
  },
  {
   "cell_type": "code",
   "execution_count": 31,
   "id": "5e044081",
   "metadata": {},
   "outputs": [
    {
     "data": {
      "text/plain": [
       "129"
      ]
     },
     "execution_count": 31,
     "metadata": {},
     "output_type": "execute_result"
    }
   ],
   "source": [
    "number_of_games_lfl(data)"
   ]
  },
  {
   "cell_type": "markdown",
   "id": "b15a2a3e",
   "metadata": {},
   "source": [
    "**Expected output :** `129`"
   ]
  },
  {
   "cell_type": "markdown",
   "id": "3eba9b27",
   "metadata": {},
   "source": [
    "### Winrate\n",
    "\n",
    "Bravo, you managed to get the parts of LFL and to count them\n",
    "\n",
    "Let's go to the next level, \\\n",
    "In league of legends, the map has a blue side and a red side,\\\n",
    "the goal of the red team is to destroy the base on the blue side while the blue team must destroy the base on the red side.\\\n",
    "There is a rumor that being on the blue side gives an advantage to the team, check this rumor.\n",
    "\n",
    "try to calculate the winrate of a team when it is on the `red` side.\\\n",
    "Don't forget that when the red team loses, the `result` is 1 and when it wins, the `result` is 0."
   ]
  },
  {
   "cell_type": "code",
   "execution_count": 28,
   "id": "3e1453f6",
   "metadata": {},
   "outputs": [],
   "source": [
    "#Calculate redsite winrate\n",
    "\n",
    "def redside_winrate(df):\n",
    "    total = number_of_games(df)\n",
    "    red_win = number_of_games(df.loc[df['result'] == 0])\n",
    "    return red_win/total"
   ]
  },
  {
   "cell_type": "code",
   "execution_count": 29,
   "id": "a8bd24ed",
   "metadata": {},
   "outputs": [
    {
     "data": {
      "text/plain": [
       "0.4718460441910192"
      ]
     },
     "execution_count": 29,
     "metadata": {},
     "output_type": "execute_result"
    }
   ],
   "source": [
    "redside_winrate(data)"
   ]
  },
  {
   "cell_type": "markdown",
   "id": "ed43f2af",
   "metadata": {},
   "source": [
    "**Expected output :** `0.4718460441910192`"
   ]
  },
  {
   "cell_type": "markdown",
   "id": "c331fd10",
   "metadata": {},
   "source": [
    "### List without duplicates\n",
    "\n",
    "Well done.\\\n",
    "But one question is on my mind.\\\n",
    "Which teams are in the French League of Legends (LFL)?\\\n",
    "List the LFL teams without duplicates"
   ]
  },
  {
   "cell_type": "code",
   "execution_count": 32,
   "id": "a9ff15bd",
   "metadata": {},
   "outputs": [],
   "source": [
    "#return the list of LFL teams without duplicates\n",
    "\n",
    "def list_equip_lfl(df):\n",
    "    new_df = df[df['League'] == 'LFL']\n",
    "    return new_df[\"blueteam\"].drop_duplicates()"
   ]
  },
  {
   "cell_type": "code",
   "execution_count": 33,
   "id": "58bdc608",
   "metadata": {},
   "outputs": [
    {
     "ename": "KeyError",
     "evalue": "'League'",
     "output_type": "error",
     "traceback": [
      "\u001b[0;31m---------------------------------------------------------------------------\u001b[0m",
      "\u001b[0;31mKeyError\u001b[0m                                  Traceback (most recent call last)",
      "File \u001b[0;32m~/.local/lib/python3.11/site-packages/pandas/core/indexes/base.py:3790\u001b[0m, in \u001b[0;36mIndex.get_loc\u001b[0;34m(self, key)\u001b[0m\n\u001b[1;32m   3789\u001b[0m \u001b[38;5;28;01mtry\u001b[39;00m:\n\u001b[0;32m-> 3790\u001b[0m     \u001b[38;5;28;01mreturn\u001b[39;00m \u001b[38;5;28;43mself\u001b[39;49m\u001b[38;5;241;43m.\u001b[39;49m\u001b[43m_engine\u001b[49m\u001b[38;5;241;43m.\u001b[39;49m\u001b[43mget_loc\u001b[49m\u001b[43m(\u001b[49m\u001b[43mcasted_key\u001b[49m\u001b[43m)\u001b[49m\n\u001b[1;32m   3791\u001b[0m \u001b[38;5;28;01mexcept\u001b[39;00m \u001b[38;5;167;01mKeyError\u001b[39;00m \u001b[38;5;28;01mas\u001b[39;00m err:\n",
      "File \u001b[0;32mindex.pyx:152\u001b[0m, in \u001b[0;36mpandas._libs.index.IndexEngine.get_loc\u001b[0;34m()\u001b[0m\n",
      "File \u001b[0;32mindex.pyx:181\u001b[0m, in \u001b[0;36mpandas._libs.index.IndexEngine.get_loc\u001b[0;34m()\u001b[0m\n",
      "File \u001b[0;32mpandas/_libs/hashtable_class_helper.pxi:7080\u001b[0m, in \u001b[0;36mpandas._libs.hashtable.PyObjectHashTable.get_item\u001b[0;34m()\u001b[0m\n",
      "File \u001b[0;32mpandas/_libs/hashtable_class_helper.pxi:7088\u001b[0m, in \u001b[0;36mpandas._libs.hashtable.PyObjectHashTable.get_item\u001b[0;34m()\u001b[0m\n",
      "\u001b[0;31mKeyError\u001b[0m: 'League'",
      "\nThe above exception was the direct cause of the following exception:\n",
      "\u001b[0;31mKeyError\u001b[0m                                  Traceback (most recent call last)",
      "Cell \u001b[0;32mIn[33], line 1\u001b[0m\n\u001b[0;32m----> 1\u001b[0m \u001b[43mlist_equip_lfl\u001b[49m\u001b[43m(\u001b[49m\u001b[43mdata\u001b[49m\u001b[43m)\u001b[49m\n",
      "Cell \u001b[0;32mIn[32], line 4\u001b[0m, in \u001b[0;36mlist_equip_lfl\u001b[0;34m(df)\u001b[0m\n\u001b[1;32m      3\u001b[0m \u001b[38;5;28;01mdef\u001b[39;00m \u001b[38;5;21mlist_equip_lfl\u001b[39m(df):\n\u001b[0;32m----> 4\u001b[0m     new_df \u001b[38;5;241m=\u001b[39m df[\u001b[43mdf\u001b[49m\u001b[43m[\u001b[49m\u001b[38;5;124;43m'\u001b[39;49m\u001b[38;5;124;43mLeague\u001b[39;49m\u001b[38;5;124;43m'\u001b[39;49m\u001b[43m]\u001b[49m \u001b[38;5;241m==\u001b[39m \u001b[38;5;124m'\u001b[39m\u001b[38;5;124mLFL\u001b[39m\u001b[38;5;124m'\u001b[39m]\n\u001b[1;32m      5\u001b[0m     \u001b[38;5;28;01mreturn\u001b[39;00m new_df[\u001b[38;5;124m\"\u001b[39m\u001b[38;5;124mblueteam\u001b[39m\u001b[38;5;124m\"\u001b[39m]\u001b[38;5;241m.\u001b[39mdrop_duplicates()\n",
      "File \u001b[0;32m~/.local/lib/python3.11/site-packages/pandas/core/frame.py:3893\u001b[0m, in \u001b[0;36mDataFrame.__getitem__\u001b[0;34m(self, key)\u001b[0m\n\u001b[1;32m   3891\u001b[0m \u001b[38;5;28;01mif\u001b[39;00m \u001b[38;5;28mself\u001b[39m\u001b[38;5;241m.\u001b[39mcolumns\u001b[38;5;241m.\u001b[39mnlevels \u001b[38;5;241m>\u001b[39m \u001b[38;5;241m1\u001b[39m:\n\u001b[1;32m   3892\u001b[0m     \u001b[38;5;28;01mreturn\u001b[39;00m \u001b[38;5;28mself\u001b[39m\u001b[38;5;241m.\u001b[39m_getitem_multilevel(key)\n\u001b[0;32m-> 3893\u001b[0m indexer \u001b[38;5;241m=\u001b[39m \u001b[38;5;28;43mself\u001b[39;49m\u001b[38;5;241;43m.\u001b[39;49m\u001b[43mcolumns\u001b[49m\u001b[38;5;241;43m.\u001b[39;49m\u001b[43mget_loc\u001b[49m\u001b[43m(\u001b[49m\u001b[43mkey\u001b[49m\u001b[43m)\u001b[49m\n\u001b[1;32m   3894\u001b[0m \u001b[38;5;28;01mif\u001b[39;00m is_integer(indexer):\n\u001b[1;32m   3895\u001b[0m     indexer \u001b[38;5;241m=\u001b[39m [indexer]\n",
      "File \u001b[0;32m~/.local/lib/python3.11/site-packages/pandas/core/indexes/base.py:3797\u001b[0m, in \u001b[0;36mIndex.get_loc\u001b[0;34m(self, key)\u001b[0m\n\u001b[1;32m   3792\u001b[0m     \u001b[38;5;28;01mif\u001b[39;00m \u001b[38;5;28misinstance\u001b[39m(casted_key, \u001b[38;5;28mslice\u001b[39m) \u001b[38;5;129;01mor\u001b[39;00m (\n\u001b[1;32m   3793\u001b[0m         \u001b[38;5;28misinstance\u001b[39m(casted_key, abc\u001b[38;5;241m.\u001b[39mIterable)\n\u001b[1;32m   3794\u001b[0m         \u001b[38;5;129;01mand\u001b[39;00m \u001b[38;5;28many\u001b[39m(\u001b[38;5;28misinstance\u001b[39m(x, \u001b[38;5;28mslice\u001b[39m) \u001b[38;5;28;01mfor\u001b[39;00m x \u001b[38;5;129;01min\u001b[39;00m casted_key)\n\u001b[1;32m   3795\u001b[0m     ):\n\u001b[1;32m   3796\u001b[0m         \u001b[38;5;28;01mraise\u001b[39;00m InvalidIndexError(key)\n\u001b[0;32m-> 3797\u001b[0m     \u001b[38;5;28;01mraise\u001b[39;00m \u001b[38;5;167;01mKeyError\u001b[39;00m(key) \u001b[38;5;28;01mfrom\u001b[39;00m \u001b[38;5;21;01merr\u001b[39;00m\n\u001b[1;32m   3798\u001b[0m \u001b[38;5;28;01mexcept\u001b[39;00m \u001b[38;5;167;01mTypeError\u001b[39;00m:\n\u001b[1;32m   3799\u001b[0m     \u001b[38;5;66;03m# If we have a listlike key, _check_indexing_error will raise\u001b[39;00m\n\u001b[1;32m   3800\u001b[0m     \u001b[38;5;66;03m#  InvalidIndexError. Otherwise we fall through and re-raise\u001b[39;00m\n\u001b[1;32m   3801\u001b[0m     \u001b[38;5;66;03m#  the TypeError.\u001b[39;00m\n\u001b[1;32m   3802\u001b[0m     \u001b[38;5;28mself\u001b[39m\u001b[38;5;241m.\u001b[39m_check_indexing_error(key)\n",
      "\u001b[0;31mKeyError\u001b[0m: 'League'"
     ]
    }
   ],
   "source": [
    "list_equip_lfl(data)"
   ]
  },
  {
   "cell_type": "markdown",
   "id": "9903527a",
   "metadata": {},
   "source": [
    "**Expected output :** ```array(['Misfits Premier', 'GameWard', 'Solary', 'Vitality.Bee', 'GamersOrigin', 'LDLC OL', 'Team MCES', 'IZI Dream'], dtype=object)```"
   ]
  },
  {
   "cell_type": "markdown",
   "id": "451648c4",
   "metadata": {},
   "source": [
    "### Recurrent value\n",
    "\n",
    "Well done, it looks like there were 8 teams in the LFL in 2020.\n",
    "\n",
    "League of Legends is a game where the meta changes regularly,\\\n",
    "every year some champions dominate the game,\\\n",
    "The few games I played, I played the mid role.\\\n",
    "Which champion has been playing the most in mid. \\\n",
    "What is the value that appears the most in the columns: `bluemid` and `redmid` ?"
   ]
  },
  {
   "cell_type": "code",
   "execution_count": 35,
   "id": "322fcca9",
   "metadata": {},
   "outputs": [],
   "source": [
    "#return the name of the champion who is the most played in midlane\n",
    "\n",
    "def top_pick_mid(df):\n",
    "    temp = pd.concat([df[\"redmid\"], df[\"bluemid\"]])\n",
    "    element_counts = temp.value_counts()\n",
    "    return element_counts.idmax"
   ]
  },
  {
   "cell_type": "code",
   "execution_count": 36,
   "id": "203583fb",
   "metadata": {},
   "outputs": [
    {
     "ename": "AttributeError",
     "evalue": "'Series' object has no attribute 'idmax'",
     "output_type": "error",
     "traceback": [
      "\u001b[0;31m---------------------------------------------------------------------------\u001b[0m",
      "\u001b[0;31mAttributeError\u001b[0m                            Traceback (most recent call last)",
      "\u001b[0;32m/tmp/ipykernel_31805/2265991537.py\u001b[0m in \u001b[0;36m?\u001b[0;34m()\u001b[0m\n\u001b[0;32m----> 1\u001b[0;31m \u001b[0mtop_pick_mid\u001b[0m\u001b[0;34m(\u001b[0m\u001b[0mdata\u001b[0m\u001b[0;34m)\u001b[0m\u001b[0;34m\u001b[0m\u001b[0;34m\u001b[0m\u001b[0m\n\u001b[0m",
      "\u001b[0;32m/tmp/ipykernel_31805/1592543776.py\u001b[0m in \u001b[0;36m?\u001b[0;34m(df)\u001b[0m\n\u001b[1;32m      3\u001b[0m \u001b[0;32mdef\u001b[0m \u001b[0mtop_pick_mid\u001b[0m\u001b[0;34m(\u001b[0m\u001b[0mdf\u001b[0m\u001b[0;34m)\u001b[0m\u001b[0;34m:\u001b[0m\u001b[0;34m\u001b[0m\u001b[0;34m\u001b[0m\u001b[0m\n\u001b[1;32m      4\u001b[0m     \u001b[0mtemp\u001b[0m \u001b[0;34m=\u001b[0m \u001b[0mpd\u001b[0m\u001b[0;34m.\u001b[0m\u001b[0mconcat\u001b[0m\u001b[0;34m(\u001b[0m\u001b[0;34m[\u001b[0m\u001b[0mdf\u001b[0m\u001b[0;34m[\u001b[0m\u001b[0;34m\"redmid\"\u001b[0m\u001b[0;34m]\u001b[0m\u001b[0;34m,\u001b[0m \u001b[0mdf\u001b[0m\u001b[0;34m[\u001b[0m\u001b[0;34m\"bluemid\"\u001b[0m\u001b[0;34m]\u001b[0m\u001b[0;34m]\u001b[0m\u001b[0;34m)\u001b[0m\u001b[0;34m\u001b[0m\u001b[0;34m\u001b[0m\u001b[0m\n\u001b[1;32m      5\u001b[0m     \u001b[0melement_counts\u001b[0m \u001b[0;34m=\u001b[0m \u001b[0mtemp\u001b[0m\u001b[0;34m.\u001b[0m\u001b[0mvalue_counts\u001b[0m\u001b[0;34m(\u001b[0m\u001b[0;34m)\u001b[0m\u001b[0;34m\u001b[0m\u001b[0;34m\u001b[0m\u001b[0m\n\u001b[0;32m----> 6\u001b[0;31m     \u001b[0;32mreturn\u001b[0m \u001b[0melement_counts\u001b[0m\u001b[0;34m.\u001b[0m\u001b[0midmax\u001b[0m\u001b[0;34m\u001b[0m\u001b[0;34m\u001b[0m\u001b[0m\n\u001b[0m",
      "\u001b[0;32m~/.local/lib/python3.11/site-packages/pandas/core/generic.py\u001b[0m in \u001b[0;36m?\u001b[0;34m(self, name)\u001b[0m\n\u001b[1;32m   6200\u001b[0m             \u001b[0;32mand\u001b[0m \u001b[0mname\u001b[0m \u001b[0;32mnot\u001b[0m \u001b[0;32min\u001b[0m \u001b[0mself\u001b[0m\u001b[0;34m.\u001b[0m\u001b[0m_accessors\u001b[0m\u001b[0;34m\u001b[0m\u001b[0;34m\u001b[0m\u001b[0m\n\u001b[1;32m   6201\u001b[0m             \u001b[0;32mand\u001b[0m \u001b[0mself\u001b[0m\u001b[0;34m.\u001b[0m\u001b[0m_info_axis\u001b[0m\u001b[0;34m.\u001b[0m\u001b[0m_can_hold_identifiers_and_holds_name\u001b[0m\u001b[0;34m(\u001b[0m\u001b[0mname\u001b[0m\u001b[0;34m)\u001b[0m\u001b[0;34m\u001b[0m\u001b[0;34m\u001b[0m\u001b[0m\n\u001b[1;32m   6202\u001b[0m         ):\n\u001b[1;32m   6203\u001b[0m             \u001b[0;32mreturn\u001b[0m \u001b[0mself\u001b[0m\u001b[0;34m[\u001b[0m\u001b[0mname\u001b[0m\u001b[0;34m]\u001b[0m\u001b[0;34m\u001b[0m\u001b[0;34m\u001b[0m\u001b[0m\n\u001b[0;32m-> 6204\u001b[0;31m         \u001b[0;32mreturn\u001b[0m \u001b[0mobject\u001b[0m\u001b[0;34m.\u001b[0m\u001b[0m__getattribute__\u001b[0m\u001b[0;34m(\u001b[0m\u001b[0mself\u001b[0m\u001b[0;34m,\u001b[0m \u001b[0mname\u001b[0m\u001b[0;34m)\u001b[0m\u001b[0;34m\u001b[0m\u001b[0;34m\u001b[0m\u001b[0m\n\u001b[0m",
      "\u001b[0;31mAttributeError\u001b[0m: 'Series' object has no attribute 'idmax'"
     ]
    }
   ],
   "source": [
    "top_pick_mid(data)"
   ]
  },
  {
   "cell_type": "markdown",
   "id": "47c9f209",
   "metadata": {},
   "source": [
    "**Expected output :** `'Zoe'`"
   ]
  },
  {
   "cell_type": "markdown",
   "id": "1f4d103b",
   "metadata": {},
   "source": [
    "Ah Zoé,\\\n",
    "The famous bubbles that, when they touch you, make you wake up at your fountain.\n",
    "\n",
    "More seriously, Zoé seems to have been extremely played in the mid.\\\n",
    "But all roles taken together,which are the 5 champions who have been the most played.\n",
    "\n",
    "To do this look at the 5 roles of both teams to see which value appears the most : \\\n",
    "`bluetop`, `bluejungle`, `bluemid`, `blueadc`, `bluesupport`, `redtop`, `redjungle`, `redmid`, `redadc`, `redsupport`.\n",
    "\n",
    "Good luck!"
   ]
  },
  {
   "cell_type": "code",
   "execution_count": 37,
   "id": "86632693",
   "metadata": {},
   "outputs": [],
   "source": [
    "#return the five most played champions (top, mid, jungle, adc, support)\n",
    "\n",
    "def ranking_all_pick(df):\n",
    "    frames = [data[\"bluemid\"], data[\"redmid\"], data[\"bluetop\"], data[\"redtop\"], data[\"bluejungle\"], data[\"redjungle\"], data[\"blueadc\"], data[\"redadc\"], data[\"bluesupport\"], data[\"redsupport\"]]\n",
    "    return pd.concat(frames).value_counts()[:5].index.tolist()"
   ]
  },
  {
   "cell_type": "code",
   "execution_count": 38,
   "id": "66a21821",
   "metadata": {},
   "outputs": [
    {
     "ename": "AttributeError",
     "evalue": "'list' object has no attribute 'head'",
     "output_type": "error",
     "traceback": [
      "\u001b[0;31m---------------------------------------------------------------------------\u001b[0m",
      "\u001b[0;31mAttributeError\u001b[0m                            Traceback (most recent call last)",
      "Cell \u001b[0;32mIn[38], line 1\u001b[0m\n\u001b[0;32m----> 1\u001b[0m \u001b[43mranking_all_pick\u001b[49m\u001b[43m(\u001b[49m\u001b[43mdata\u001b[49m\u001b[43m)\u001b[49m\u001b[38;5;241;43m.\u001b[39;49m\u001b[43mhead\u001b[49m()\n",
      "\u001b[0;31mAttributeError\u001b[0m: 'list' object has no attribute 'head'"
     ]
    }
   ],
   "source": [
    "ranking_all_pick(data).head()"
   ]
  },
  {
   "cell_type": "markdown",
   "id": "897641ac",
   "metadata": {},
   "source": [
    "**Expected output :** \n",
    "\n",
    "`Aphelios    2147\n",
    " Nautilus    2084\n",
    " Sett        1816\n",
    " Thresh      1730\n",
    " Ornn        1700\n",
    " dtype: int64`"
   ]
  },
  {
   "cell_type": "markdown",
   "id": "7e723972",
   "metadata": {},
   "source": [
    "### Winrate in LEC\n",
    "\n",
    "Zoë is finally not even in the top 5 most played champions, maybe she was ban most of the time.\\\n",
    "Aphelios seems to have dominated the summoner's rift.\n",
    "\n",
    "The LEC is the European league one rank above the LFL, the dream of every European player. \\\n",
    "I wonder which team was able to dominate this league.\\\n",
    "List the different teams in the LEC league and their number of wins."
   ]
  },
  {
   "cell_type": "code",
   "execution_count": null,
   "id": "19dda682",
   "metadata": {},
   "outputs": [],
   "source": [
    "#return the number of wins for each team in the LEC league\n",
    "\n",
    "def display_wins_per_teams(df):\n",
    "    return None"
   ]
  },
  {
   "cell_type": "code",
   "execution_count": null,
   "id": "6ebe6022",
   "metadata": {},
   "outputs": [],
   "source": [
    "display_wins_per_teams(data)"
   ]
  },
  {
   "cell_type": "markdown",
   "id": "abd0406e",
   "metadata": {},
   "source": [
    "**Expected output :**\n",
    "\n",
    "`G2 Esports               48\n",
    " Fnatic                   34\n",
    " MAD Lions                31\n",
    " Rogue                    31\n",
    " Origen                   24\n",
    " FC Schalke 04 Esports    18\n",
    " Misfits Gaming           18\n",
    " Excel Esports            15\n",
    " SK Gaming                13\n",
    " Team Vitality             9\n",
    " dtype: int64`"
   ]
  },
  {
   "cell_type": "markdown",
   "id": "107140ef",
   "metadata": {},
   "source": [
    "### Counter\n",
    "\n",
    "What a team: G2!\n",
    "\n",
    "Aphelios was the most played champion in competition in 2020,\\\n",
    "in my research I noticed that Ezreal was the champion who was the most pick against Aphelios.\\\n",
    "Was this a good decision ?\n",
    "\n",
    "Calculate the winrate of Aphelios against Ezreal,\\\n",
    "Aphelios and Ezreal are champions that are usually played in the role of adc. \\\n",
    "Just use the `blueadc` and `redadc` columns and ```result``` for this exercise."
   ]
  },
  {
   "cell_type": "code",
   "execution_count": null,
   "id": "0cca2db3",
   "metadata": {},
   "outputs": [],
   "source": [
    "def aphelios_vs_ezreal(df):\n",
    "    return None"
   ]
  },
  {
   "cell_type": "code",
   "execution_count": null,
   "id": "4a2c2086",
   "metadata": {},
   "outputs": [],
   "source": [
    "aphelios_vs_ezreal(data)"
   ]
  },
  {
   "cell_type": "markdown",
   "id": "856bcff6",
   "metadata": {},
   "source": [
    "**Expected output :** `0.528046421663443`"
   ]
  },
  {
   "cell_type": "markdown",
   "id": "7d57eea4",
   "metadata": {},
   "source": [
    "You have answered all my questions, well done.\\\n",
    "Now you are free to do your analysis.\n",
    "\n",
    "Why don't you try to see with which support Aphelios has the best winrate for example?"
   ]
  },
  {
   "cell_type": "code",
   "execution_count": null,
   "id": "f22450a5",
   "metadata": {},
   "outputs": [],
   "source": [
    "def name_this_function(df):\n",
    "    \"\"\"\n",
    "        You are free, process the data to try to get out indicators that can be interesting\n",
    "    \"\"\"\n",
    "    return None"
   ]
  },
  {
   "cell_type": "markdown",
   "id": "0ec43f54",
   "metadata": {},
   "source": [
    "## Well played\n",
    "\n",
    "You were able to see the basic operation of pandas.\\\n",
    "You now understand one of the basics of data science.\n",
    "\n",
    "Fortunately I thought about the brave people who would arrive there, a second topic is waiting for you on a dataset detailing the sale of video games in the world.\n",
    "\n",
    "<img src=\"./image/win.png\"/>"
   ]
  }
 ],
 "metadata": {
  "kernelspec": {
   "display_name": "Python 3 (ipykernel)",
   "language": "python",
   "name": "python3"
  },
  "language_info": {
   "codemirror_mode": {
    "name": "ipython",
    "version": 3
   },
   "file_extension": ".py",
   "mimetype": "text/x-python",
   "name": "python",
   "nbconvert_exporter": "python",
   "pygments_lexer": "ipython3",
   "version": "3.11.4"
  }
 },
 "nbformat": 4,
 "nbformat_minor": 5
}
